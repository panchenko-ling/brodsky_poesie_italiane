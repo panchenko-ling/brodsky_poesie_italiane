{
  "nbformat": 4,
  "nbformat_minor": 0,
  "metadata": {
    "colab": {
      "provenance": []
    },
    "kernelspec": {
      "name": "python3",
      "display_name": "Python 3"
    },
    "language_info": {
      "name": "python"
    }
  },
  "cells": [
    {
      "cell_type": "code",
      "source": [
        "from google.colab import files\n",
        "import xml.etree.ElementTree as ET"
      ],
      "metadata": {
        "id": "tv2N3X1EEc4R"
      },
      "execution_count": null,
      "outputs": []
    },
    {
      "cell_type": "code",
      "source": [
        "filename = \"brodsky_final_15-10-2025.xml\""
      ],
      "metadata": {
        "id": "V9ityB1fEdTN"
      },
      "execution_count": null,
      "outputs": []
    },
    {
      "cell_type": "code",
      "source": [
        "def strip_ns(tag):\n",
        "    return tag.split('}', 1)[-1] if '}' in tag else tag"
      ],
      "metadata": {
        "id": "4IZOIiR6FJrj"
      },
      "execution_count": null,
      "outputs": []
    },
    {
      "cell_type": "code",
      "execution_count": null,
      "metadata": {
        "colab": {
          "base_uri": "https://localhost:8080/"
        },
        "id": "dcP6SkNRENaq",
        "outputId": "efd79731-c24e-49aa-ceff-a30e9f9abbfd"
      },
      "outputs": [
        {
          "output_type": "stream",
          "name": "stdout",
          "text": [
            "Unique element tags:\n",
            "  TEI\n",
            "  ab\n",
            "  anchor\n",
            "  author\n",
            "  birth\n",
            "  body\n",
            "  city\n",
            "  country\n",
            "  date\n",
            "  death\n",
            "  div1\n",
            "  div2\n",
            "  div3\n",
            "  editor\n",
            "  epigraph\n",
            "  fileDesc\n",
            "  geo\n",
            "  head\n",
            "  hi\n",
            "  l\n",
            "  lg\n",
            "  link\n",
            "  linkGrp\n",
            "  listPerson\n",
            "  listPlace\n",
            "  location\n",
            "  name\n",
            "  note\n",
            "  noteGrp\n",
            "  p\n",
            "  persName\n",
            "  person\n",
            "  place\n",
            "  placeName\n",
            "  publicationStmt\n",
            "  resp\n",
            "  respStmt\n",
            "  role\n",
            "  sourceDesc\n",
            "  standOff\n",
            "  teiHeader\n",
            "  text\n",
            "  title\n",
            "  titleStmt\n",
            "  type\n",
            "\n",
            " Unique attribute names:\n",
            "  domains\n",
            "  id\n",
            "  lang\n",
            "  n\n",
            "  rend\n",
            "  resp\n",
            "  target\n",
            "  targetEnd\n",
            "  type\n",
            "  when\n"
          ]
        }
      ],
      "source": [
        "tree = ET.parse(filename)\n",
        "root = tree.getroot()\n",
        "\n",
        "tags = set()\n",
        "attributes = set()\n",
        "\n",
        "for elem in root.iter():\n",
        "    tags.add(strip_ns(elem.tag))\n",
        "    for attr in elem.attrib.keys():\n",
        "        attributes.add(strip_ns(attr))\n",
        "\n",
        "print(\"Unique element tags:\")\n",
        "for t in sorted(tags):\n",
        "    print(\" \", t)\n",
        "\n",
        "print(\"\\n Unique attribute names:\")\n",
        "for a in sorted(attributes):\n",
        "    print(\" \", a)"
      ]
    }
  ]
}